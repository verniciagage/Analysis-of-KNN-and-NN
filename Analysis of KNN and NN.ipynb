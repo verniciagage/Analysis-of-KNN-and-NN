{
  "nbformat": 4,
  "nbformat_minor": 0,
  "metadata": {
    "colab": {
      "name": "Automation and Robotics Project",
      "provenance": [],
      "collapsed_sections": []
    },
    "kernelspec": {
      "display_name": "Python 3",
      "name": "python3"
    },
    "language_info": {
      "name": "python"
    }
  },
  "cells": [
    {
      "cell_type": "code",
      "metadata": {
        "id": "vJCvZCllMR8j"
      },
      "source": [
        "# Import the Python libraries\n",
        "import matplotlib.pyplot as plt\n",
        "import cv2\n",
        "import numpy as np\n",
        "import seaborn as sns\n",
        "\n",
        "import itertools as it\n",
        "import os\n",
        "import glob\n",
        "import os.path as osp\n",
        "\n",
        "from sklearn.model_selection import StratifiedKFold\n",
        "\n",
        "from sklearn import (datasets, metrics,                     \n",
        "                     model_selection as skms,\n",
        "                     neighbors, svm)\n",
        "\n",
        "from sklearn.neural_network import MLPClassifier\n",
        "\n",
        "import time\n",
        "from sklearn.model_selection import cross_val_score"
      ],
      "execution_count": 1,
      "outputs": []
    },
    {
      "cell_type": "code",
      "metadata": {
        "id": "oq5WNfSUM3gB"
      },
      "source": [
        "import keras\n",
        "\n",
        "from keras.datasets import fashion_mnist\n",
        "\n",
        "# don't usually prefer/do direct imports, but so be it ...\n",
        "from keras.models import Sequential\n",
        "from keras.layers import (Activation, \n",
        "                          Dense, Dropout, Flatten,\n",
        "                          Conv2D, MaxPooling2D)"
      ],
      "execution_count": 2,
      "outputs": []
    },
    {
      "cell_type": "code",
      "metadata": {
        "id": "rI8FNftziD5s"
      },
      "source": [
        "from google.colab import drive\n",
        "drive.mount('/content/gdrive')\n",
        "!ls \"/content/gdrive/My Drive/Colab Notebooks/common\"\n",
        "%cd /content/gdrive/My Drive/Colab Notebooks"
      ],
      "execution_count": null,
      "outputs": []
    },
    {
      "cell_type": "code",
      "metadata": {
        "id": "A2cxhsVxiEcy"
      },
      "source": [
        "# Import the .py file with the functions needed\n",
        "from utilities import my_show, my_gshow, my_read, my_read_g, my_read_cg"
      ],
      "execution_count": null,
      "outputs": []
    },
    {
      "cell_type": "markdown",
      "metadata": {
        "id": "SkXCkJkJSH0P"
      },
      "source": [
        "Import Data"
      ]
    },
    {
      "cell_type": "code",
      "metadata": {
        "id": "J19A7EF6SJF3"
      },
      "source": [
        "fashion = fashion_mnist.load_data()\n",
        "# the data, shuffled and split between train and test sets\n",
        "(x_train, y_train), (x_test, y_test) = fashion_mnist.load_data()\n",
        "n_train, n_test = x_train.shape[0], x_test.shape[0]\n",
        "num_classes = len(set(y_train)) # aka, 10"
      ],
      "execution_count": null,
      "outputs": []
    },
    {
      "cell_type": "code",
      "metadata": {
        "id": "mwjwJmBYf8s5"
      },
      "source": [
        "plt.figure()\n",
        "plt.imshow(x_train[0])\n",
        "plt.colorbar()\n",
        "plt.grid(False)\n",
        "plt.show()"
      ],
      "execution_count": null,
      "outputs": []
    },
    {
      "cell_type": "code",
      "metadata": {
        "id": "ONh3HjYKe_X8"
      },
      "source": [
        "# Display the first 5 samples of the dataset with their corresponding labels\n",
        "fig, axes = plt.subplots(1,5)\n",
        "first_four_wtgt = it.islice(zip(x_train, y_train), 5)\n",
        "for (image, label), ax in zip(first_four_wtgt, axes):       \n",
        "    my_gshow(ax, image)\n",
        "    ax.set_title(\"True: {}\".format(label))"
      ],
      "execution_count": null,
      "outputs": []
    },
    {
      "cell_type": "code",
      "metadata": {
        "id": "8iP4bHSPhq6W"
      },
      "source": [
        "# here we flatten the data \n",
        "# (so r,c information is lost - rely on absolute position only)\n",
        "x_train = x_train.reshape(n_train, -1).astype(np.float32) / 255.0\n",
        "x_test  = x_test.reshape( n_test, -1).astype(np.float32) / 255.0\n",
        "\n",
        "flat_shape = x_train[0].shape\n",
        "\n",
        "print('{} train and {} test examples'.format(n_train, n_test))\n",
        "\n",
        "# convert class vectors to binary class matrices\n",
        "y_train = keras.utils.to_categorical(y_train, num_classes)\n",
        "y_test  = keras.utils.to_categorical(y_test,  num_classes)\n",
        "\n"
      ],
      "execution_count": null,
      "outputs": []
    },
    {
      "cell_type": "code",
      "metadata": {
        "id": "bhUu4871qY69"
      },
      "source": [
        "y_train"
      ],
      "execution_count": null,
      "outputs": []
    },
    {
      "cell_type": "code",
      "metadata": {
        "id": "MPk7mcyaoMpW"
      },
      "source": [
        "def cm_helper(ax, actual, predicted):\n",
        "    cm = metrics.confusion_matrix(actual, predicted)\n",
        "    sns.heatmap(cm, annot=True, fmt='3d', ax=ax)\n",
        "    ax.set_ylabel('Actual')\n",
        "    ax.set_xlabel('Predicted')\n",
        "    \n",
        "# Provide a seed for reproducibility of the results.\n",
        "# By providing a seed, the randomly generated numbers will be the same every time\n",
        "# you run your code. This way you can check/test your code with the same values\n",
        "# Here, the random seed is 42 but you can select any number, just make sure that\n",
        "# you use the same every time you run your code\n",
        "np.random.seed(42)"
      ],
      "execution_count": null,
      "outputs": []
    },
    {
      "cell_type": "code",
      "metadata": {
        "id": "7u3HOxizijsV"
      },
      "source": [
        "# Make sure to provide this line to display figures in the notebook\n",
        "%matplotlib inline"
      ],
      "execution_count": null,
      "outputs": []
    },
    {
      "cell_type": "markdown",
      "metadata": {
        "id": "yRGgF0zuSDf4"
      },
      "source": [
        "Neural Network"
      ]
    },
    {
      "cell_type": "code",
      "metadata": {
        "id": "j4E0MEaiXsG3"
      },
      "source": [
        "# Neural Network\n",
        "MLP_model = MLPClassifier()"
      ],
      "execution_count": null,
      "outputs": []
    },
    {
      "cell_type": "code",
      "metadata": {
        "id": "xCv2qyYDPQq5"
      },
      "source": [
        "# Define the set of values that will be evaluated for the hyperparameter\n",
        "# Here, we are testing \n",
        "nn_param_grid = {'alpha':[0.0001, 0.05], 'activation':['tanh','relu'], 'hidden_layer_sizes': [1, 5, 10, 50]}\n",
        "#nn_param_grid = {'alpha':[0.0001, 0.05], 'activation':['relu'], 'hidden_layer_sizes': [10]}#, 25, 50, 75, 100, 200]}"
      ],
      "execution_count": null,
      "outputs": []
    },
    {
      "cell_type": "code",
      "metadata": {
        "id": "0tdPgL2_cWXO"
      },
      "source": [
        ""
      ],
      "execution_count": null,
      "outputs": []
    },
    {
      "cell_type": "code",
      "metadata": {
        "colab": {
          "base_uri": "https://localhost:8080/"
        },
        "id": "hJMqhJy8kb1K",
        "outputId": "eb01e5a0-94d8-4639-bfe0-96527f30c3b5"
      },
      "source": [
        "# Takes 121 minutes to run\n",
        "# Best Result: {'activation': 'tanh', 'alpha': 0.05, 'hidden_layer_sizes': 50}\n",
        "\n",
        "# Set the seed for reproducibility\n",
        "np.random.seed(42)\n",
        "\n",
        "# Start the timer to check the training time for the model\n",
        "start_time = time.time()\n",
        "\n",
        "\n",
        "# fit model\n",
        "nn_model = skms.GridSearchCV(estimator=MLP_model,  param_grid=nn_param_grid, cv=3, return_train_score=True, verbose=1)\n",
        "nn_model.fit(x_train, y_train)\n",
        "\n",
        "end_time = time.time()\n",
        "total_time = end_time - start_time\n",
        "print('Time: %.2f seconds' % total_time)"
      ],
      "execution_count": null,
      "outputs": [
        {
          "output_type": "stream",
          "text": [
            "Fitting 3 folds for each of 16 candidates, totalling 48 fits\n"
          ],
          "name": "stdout"
        },
        {
          "output_type": "stream",
          "text": [
            "[Parallel(n_jobs=1)]: Using backend SequentialBackend with 1 concurrent workers.\n",
            "/usr/local/lib/python3.7/dist-packages/sklearn/neural_network/_multilayer_perceptron.py:571: ConvergenceWarning: Stochastic Optimizer: Maximum iterations (200) reached and the optimization hasn't converged yet.\n",
            "  % self.max_iter, ConvergenceWarning)\n",
            "/usr/local/lib/python3.7/dist-packages/sklearn/neural_network/_multilayer_perceptron.py:571: ConvergenceWarning: Stochastic Optimizer: Maximum iterations (200) reached and the optimization hasn't converged yet.\n",
            "  % self.max_iter, ConvergenceWarning)\n",
            "/usr/local/lib/python3.7/dist-packages/sklearn/neural_network/_multilayer_perceptron.py:571: ConvergenceWarning: Stochastic Optimizer: Maximum iterations (200) reached and the optimization hasn't converged yet.\n",
            "  % self.max_iter, ConvergenceWarning)\n",
            "/usr/local/lib/python3.7/dist-packages/sklearn/neural_network/_multilayer_perceptron.py:571: ConvergenceWarning: Stochastic Optimizer: Maximum iterations (200) reached and the optimization hasn't converged yet.\n",
            "  % self.max_iter, ConvergenceWarning)\n",
            "/usr/local/lib/python3.7/dist-packages/sklearn/neural_network/_multilayer_perceptron.py:571: ConvergenceWarning: Stochastic Optimizer: Maximum iterations (200) reached and the optimization hasn't converged yet.\n",
            "  % self.max_iter, ConvergenceWarning)\n",
            "/usr/local/lib/python3.7/dist-packages/sklearn/neural_network/_multilayer_perceptron.py:571: ConvergenceWarning: Stochastic Optimizer: Maximum iterations (200) reached and the optimization hasn't converged yet.\n",
            "  % self.max_iter, ConvergenceWarning)\n",
            "/usr/local/lib/python3.7/dist-packages/sklearn/neural_network/_multilayer_perceptron.py:571: ConvergenceWarning: Stochastic Optimizer: Maximum iterations (200) reached and the optimization hasn't converged yet.\n",
            "  % self.max_iter, ConvergenceWarning)\n",
            "/usr/local/lib/python3.7/dist-packages/sklearn/neural_network/_multilayer_perceptron.py:571: ConvergenceWarning: Stochastic Optimizer: Maximum iterations (200) reached and the optimization hasn't converged yet.\n",
            "  % self.max_iter, ConvergenceWarning)\n",
            "/usr/local/lib/python3.7/dist-packages/sklearn/neural_network/_multilayer_perceptron.py:571: ConvergenceWarning: Stochastic Optimizer: Maximum iterations (200) reached and the optimization hasn't converged yet.\n",
            "  % self.max_iter, ConvergenceWarning)\n",
            "/usr/local/lib/python3.7/dist-packages/sklearn/neural_network/_multilayer_perceptron.py:571: ConvergenceWarning: Stochastic Optimizer: Maximum iterations (200) reached and the optimization hasn't converged yet.\n",
            "  % self.max_iter, ConvergenceWarning)\n",
            "/usr/local/lib/python3.7/dist-packages/sklearn/neural_network/_multilayer_perceptron.py:571: ConvergenceWarning: Stochastic Optimizer: Maximum iterations (200) reached and the optimization hasn't converged yet.\n",
            "  % self.max_iter, ConvergenceWarning)\n",
            "/usr/local/lib/python3.7/dist-packages/sklearn/neural_network/_multilayer_perceptron.py:571: ConvergenceWarning: Stochastic Optimizer: Maximum iterations (200) reached and the optimization hasn't converged yet.\n",
            "  % self.max_iter, ConvergenceWarning)\n",
            "/usr/local/lib/python3.7/dist-packages/sklearn/neural_network/_multilayer_perceptron.py:571: ConvergenceWarning: Stochastic Optimizer: Maximum iterations (200) reached and the optimization hasn't converged yet.\n",
            "  % self.max_iter, ConvergenceWarning)\n",
            "/usr/local/lib/python3.7/dist-packages/sklearn/neural_network/_multilayer_perceptron.py:571: ConvergenceWarning: Stochastic Optimizer: Maximum iterations (200) reached and the optimization hasn't converged yet.\n",
            "  % self.max_iter, ConvergenceWarning)\n",
            "/usr/local/lib/python3.7/dist-packages/sklearn/neural_network/_multilayer_perceptron.py:571: ConvergenceWarning: Stochastic Optimizer: Maximum iterations (200) reached and the optimization hasn't converged yet.\n",
            "  % self.max_iter, ConvergenceWarning)\n",
            "/usr/local/lib/python3.7/dist-packages/sklearn/neural_network/_multilayer_perceptron.py:571: ConvergenceWarning: Stochastic Optimizer: Maximum iterations (200) reached and the optimization hasn't converged yet.\n",
            "  % self.max_iter, ConvergenceWarning)\n",
            "/usr/local/lib/python3.7/dist-packages/sklearn/neural_network/_multilayer_perceptron.py:571: ConvergenceWarning: Stochastic Optimizer: Maximum iterations (200) reached and the optimization hasn't converged yet.\n",
            "  % self.max_iter, ConvergenceWarning)\n",
            "/usr/local/lib/python3.7/dist-packages/sklearn/neural_network/_multilayer_perceptron.py:571: ConvergenceWarning: Stochastic Optimizer: Maximum iterations (200) reached and the optimization hasn't converged yet.\n",
            "  % self.max_iter, ConvergenceWarning)\n",
            "/usr/local/lib/python3.7/dist-packages/sklearn/neural_network/_multilayer_perceptron.py:571: ConvergenceWarning: Stochastic Optimizer: Maximum iterations (200) reached and the optimization hasn't converged yet.\n",
            "  % self.max_iter, ConvergenceWarning)\n",
            "/usr/local/lib/python3.7/dist-packages/sklearn/neural_network/_multilayer_perceptron.py:571: ConvergenceWarning: Stochastic Optimizer: Maximum iterations (200) reached and the optimization hasn't converged yet.\n",
            "  % self.max_iter, ConvergenceWarning)\n",
            "/usr/local/lib/python3.7/dist-packages/sklearn/neural_network/_multilayer_perceptron.py:571: ConvergenceWarning: Stochastic Optimizer: Maximum iterations (200) reached and the optimization hasn't converged yet.\n",
            "  % self.max_iter, ConvergenceWarning)\n",
            "/usr/local/lib/python3.7/dist-packages/sklearn/neural_network/_multilayer_perceptron.py:571: ConvergenceWarning: Stochastic Optimizer: Maximum iterations (200) reached and the optimization hasn't converged yet.\n",
            "  % self.max_iter, ConvergenceWarning)\n",
            "/usr/local/lib/python3.7/dist-packages/sklearn/neural_network/_multilayer_perceptron.py:571: ConvergenceWarning: Stochastic Optimizer: Maximum iterations (200) reached and the optimization hasn't converged yet.\n",
            "  % self.max_iter, ConvergenceWarning)\n",
            "/usr/local/lib/python3.7/dist-packages/sklearn/neural_network/_multilayer_perceptron.py:571: ConvergenceWarning: Stochastic Optimizer: Maximum iterations (200) reached and the optimization hasn't converged yet.\n",
            "  % self.max_iter, ConvergenceWarning)\n",
            "/usr/local/lib/python3.7/dist-packages/sklearn/neural_network/_multilayer_perceptron.py:571: ConvergenceWarning: Stochastic Optimizer: Maximum iterations (200) reached and the optimization hasn't converged yet.\n",
            "  % self.max_iter, ConvergenceWarning)\n",
            "/usr/local/lib/python3.7/dist-packages/sklearn/neural_network/_multilayer_perceptron.py:571: ConvergenceWarning: Stochastic Optimizer: Maximum iterations (200) reached and the optimization hasn't converged yet.\n",
            "  % self.max_iter, ConvergenceWarning)\n",
            "/usr/local/lib/python3.7/dist-packages/sklearn/neural_network/_multilayer_perceptron.py:571: ConvergenceWarning: Stochastic Optimizer: Maximum iterations (200) reached and the optimization hasn't converged yet.\n",
            "  % self.max_iter, ConvergenceWarning)\n",
            "/usr/local/lib/python3.7/dist-packages/sklearn/neural_network/_multilayer_perceptron.py:571: ConvergenceWarning: Stochastic Optimizer: Maximum iterations (200) reached and the optimization hasn't converged yet.\n",
            "  % self.max_iter, ConvergenceWarning)\n",
            "/usr/local/lib/python3.7/dist-packages/sklearn/neural_network/_multilayer_perceptron.py:571: ConvergenceWarning: Stochastic Optimizer: Maximum iterations (200) reached and the optimization hasn't converged yet.\n",
            "  % self.max_iter, ConvergenceWarning)\n",
            "/usr/local/lib/python3.7/dist-packages/sklearn/neural_network/_multilayer_perceptron.py:571: ConvergenceWarning: Stochastic Optimizer: Maximum iterations (200) reached and the optimization hasn't converged yet.\n",
            "  % self.max_iter, ConvergenceWarning)\n",
            "/usr/local/lib/python3.7/dist-packages/sklearn/neural_network/_multilayer_perceptron.py:571: ConvergenceWarning: Stochastic Optimizer: Maximum iterations (200) reached and the optimization hasn't converged yet.\n",
            "  % self.max_iter, ConvergenceWarning)\n",
            "/usr/local/lib/python3.7/dist-packages/sklearn/neural_network/_multilayer_perceptron.py:571: ConvergenceWarning: Stochastic Optimizer: Maximum iterations (200) reached and the optimization hasn't converged yet.\n",
            "  % self.max_iter, ConvergenceWarning)\n",
            "/usr/local/lib/python3.7/dist-packages/sklearn/neural_network/_multilayer_perceptron.py:571: ConvergenceWarning: Stochastic Optimizer: Maximum iterations (200) reached and the optimization hasn't converged yet.\n",
            "  % self.max_iter, ConvergenceWarning)\n",
            "/usr/local/lib/python3.7/dist-packages/sklearn/neural_network/_multilayer_perceptron.py:571: ConvergenceWarning: Stochastic Optimizer: Maximum iterations (200) reached and the optimization hasn't converged yet.\n",
            "  % self.max_iter, ConvergenceWarning)\n",
            "/usr/local/lib/python3.7/dist-packages/sklearn/neural_network/_multilayer_perceptron.py:571: ConvergenceWarning: Stochastic Optimizer: Maximum iterations (200) reached and the optimization hasn't converged yet.\n",
            "  % self.max_iter, ConvergenceWarning)\n",
            "/usr/local/lib/python3.7/dist-packages/sklearn/neural_network/_multilayer_perceptron.py:571: ConvergenceWarning: Stochastic Optimizer: Maximum iterations (200) reached and the optimization hasn't converged yet.\n",
            "  % self.max_iter, ConvergenceWarning)\n",
            "/usr/local/lib/python3.7/dist-packages/sklearn/neural_network/_multilayer_perceptron.py:571: ConvergenceWarning: Stochastic Optimizer: Maximum iterations (200) reached and the optimization hasn't converged yet.\n",
            "  % self.max_iter, ConvergenceWarning)\n",
            "/usr/local/lib/python3.7/dist-packages/sklearn/neural_network/_multilayer_perceptron.py:571: ConvergenceWarning: Stochastic Optimizer: Maximum iterations (200) reached and the optimization hasn't converged yet.\n",
            "  % self.max_iter, ConvergenceWarning)\n",
            "[Parallel(n_jobs=1)]: Done  48 out of  48 | elapsed: 121.4min finished\n"
          ],
          "name": "stderr"
        },
        {
          "output_type": "stream",
          "text": [
            "Time: 7429.97 seconds\n"
          ],
          "name": "stdout"
        }
      ]
    },
    {
      "cell_type": "code",
      "metadata": {
        "id": "rQlqZSdrsAPl"
      },
      "source": [
        "# Make predictions for the entire test set\n",
        "nn_model_predict = nn_model.predict(x_test)"
      ],
      "execution_count": null,
      "outputs": []
    },
    {
      "cell_type": "code",
      "metadata": {
        "colab": {
          "base_uri": "https://localhost:8080/",
          "height": 690
        },
        "id": "17L1iRwarmrG",
        "outputId": "35a3e957-ce40-464c-b782-47e79fbb3ac9"
      },
      "source": [
        "# See how the model performed\n",
        "report_nn_model = metrics.classification_report(y_test, nn_model_predict)\n",
        "print('NN Classification Report')\n",
        "print(report_nn_model)\n",
        "\n",
        "# Display confusion matrix\n",
        "cm_helper(plt.gca(), y_test.argmax(axis=1), nn_model_predict.argmax(axis=1))\n",
        "\n",
        "print(\"NN Confusion Matrix for Best Parameters\")\n",
        "print(\"Parameters: \", nn_model.best_params_)"
      ],
      "execution_count": null,
      "outputs": [
        {
          "output_type": "stream",
          "text": [
            "/usr/local/lib/python3.7/dist-packages/sklearn/metrics/_classification.py:1272: UndefinedMetricWarning: Precision and F-score are ill-defined and being set to 0.0 in samples with no predicted labels. Use `zero_division` parameter to control this behavior.\n",
            "  _warn_prf(average, modifier, msg_start, len(result))\n"
          ],
          "name": "stderr"
        },
        {
          "output_type": "stream",
          "text": [
            "NN Classification Report\n",
            "              precision    recall  f1-score   support\n",
            "\n",
            "           0       0.86      0.78      0.82      1000\n",
            "           1       0.98      0.96      0.97      1000\n",
            "           2       0.86      0.74      0.79      1000\n",
            "           3       0.88      0.89      0.88      1000\n",
            "           4       0.81      0.79      0.80      1000\n",
            "           5       0.97      0.93      0.95      1000\n",
            "           6       0.77      0.58      0.66      1000\n",
            "           7       0.95      0.94      0.95      1000\n",
            "           8       0.97      0.96      0.97      1000\n",
            "           9       0.96      0.95      0.96      1000\n",
            "\n",
            "   micro avg       0.90      0.85      0.88     10000\n",
            "   macro avg       0.90      0.85      0.88     10000\n",
            "weighted avg       0.90      0.85      0.88     10000\n",
            " samples avg       0.85      0.85      0.85     10000\n",
            "\n",
            "NN Confusion Matrix for Best Parameters\n",
            "Parameters:  {'activation': 'tanh', 'alpha': 0.05, 'hidden_layer_sizes': 50}\n"
          ],
          "name": "stdout"
        },
        {
          "output_type": "display_data",
          "data": {
            "image/png": "[encoded data removed]",
            "text/plain": [
              "<Figure size 432x288 with 2 Axes>"
            ]
          },
          "metadata": {
            "tags": [],
            "needs_background": "light"
          }
        }
      ]
    },
    {
      "cell_type": "code",
      "metadata": {
        "id": "OgDlPe6Do5cl"
      },
      "source": [
        "\n",
        "# evaluate\n",
        "#score = nn_model.evaluate(x_test, y_test)\n",
        "#print('Test loss:', score[0])\n",
        "#print('Test accuracy:', score[1])"
      ],
      "execution_count": null,
      "outputs": []
    },
    {
      "cell_type": "code",
      "metadata": {
        "colab": {
          "base_uri": "https://localhost:8080/"
        },
        "id": "_u6n4aLQlrhO",
        "outputId": "818972d8-3f0d-4bd0-b6f6-b40e6df6722d"
      },
      "source": [
        "nn_model_score = nn_model.score(x_test, y_test)\n",
        "print(nn_model_score)"
      ],
      "execution_count": null,
      "outputs": [
        {
          "output_type": "stream",
          "text": [
            "0.8373\n"
          ],
          "name": "stdout"
        }
      ]
    },
    {
      "cell_type": "code",
      "metadata": {
        "colab": {
          "base_uri": "https://localhost:8080/"
        },
        "id": "Un71E3NXmyk-",
        "outputId": "88370d30-894c-4155-8d80-29dd97aadc74"
      },
      "source": [
        "print(nn_model.cv_results_)"
      ],
      "execution_count": null,
      "outputs": [
        {
          "output_type": "stream",
          "text": [
            "{'mean_fit_time': array([ 29.13801201,  97.23301053, 100.04184087, 200.36391195,\n",
            "        47.07961607,  95.7774028 ,  99.42017921, 167.31073411,\n",
            "        65.99912063, 121.1237359 , 108.43823806, 265.06868394,\n",
            "        63.17531641, 208.83142749, 209.37071006, 533.3743089 ]), 'std_fit_time': array([26.03583193,  0.64565711,  0.2581821 ,  1.87915945, 26.03752251,\n",
            "        0.56176322,  0.17325608, 23.59645959,  3.04989963, 22.44452318,\n",
            "        2.67982541, 15.82806408,  3.24801433, 86.65795896, 79.98025022,\n",
            "       91.2710422 ]), 'mean_score_time': array([0.07907573, 0.1481634 , 0.12907537, 0.20246172, 0.079024  ,\n",
            "       0.12348747, 0.13271729, 0.20015097, 0.07862671, 0.36852082,\n",
            "       0.26782433, 0.8537341 , 0.07804767, 0.62013745, 0.54212769,\n",
            "       1.57518498]), 'std_score_time': array([7.44466492e-04, 3.51216454e-02, 1.19038353e-04, 3.70924195e-04,\n",
            "       1.96755702e-04, 6.92242176e-04, 6.06797514e-03, 1.42597162e-03,\n",
            "       7.21258231e-04, 1.92475366e-01, 5.73711416e-02, 1.02258915e-01,\n",
            "       3.14358872e-04, 4.24031347e-01, 2.14460298e-01, 3.78508633e-01]), 'param_activation': masked_array(data=['tanh', 'tanh', 'tanh', 'tanh', 'tanh', 'tanh', 'tanh',\n",
            "                   'tanh', 'relu', 'relu', 'relu', 'relu', 'relu', 'relu',\n",
            "                   'relu', 'relu'],\n",
            "             mask=[False, False, False, False, False, False, False, False,\n",
            "                   False, False, False, False, False, False, False, False],\n",
            "       fill_value='?',\n",
            "            dtype=object), 'param_alpha': masked_array(data=[0.0001, 0.0001, 0.0001, 0.0001, 0.05, 0.05, 0.05, 0.05,\n",
            "                   0.0001, 0.0001, 0.0001, 0.0001, 0.05, 0.05, 0.05, 0.05],\n",
            "             mask=[False, False, False, False, False, False, False, False,\n",
            "                   False, False, False, False, False, False, False, False],\n",
            "       fill_value='?',\n",
            "            dtype=object), 'param_hidden_layer_sizes': masked_array(data=[1, 5, 10, 50, 1, 5, 10, 50, 1, 5, 10, 50, 1, 5, 10, 50],\n",
            "             mask=[False, False, False, False, False, False, False, False,\n",
            "                   False, False, False, False, False, False, False, False],\n",
            "       fill_value='?',\n",
            "            dtype=object), 'params': [{'activation': 'tanh', 'alpha': 0.0001, 'hidden_layer_sizes': 1}, {'activation': 'tanh', 'alpha': 0.0001, 'hidden_layer_sizes': 5}, {'activation': 'tanh', 'alpha': 0.0001, 'hidden_layer_sizes': 10}, {'activation': 'tanh', 'alpha': 0.0001, 'hidden_layer_sizes': 50}, {'activation': 'tanh', 'alpha': 0.05, 'hidden_layer_sizes': 1}, {'activation': 'tanh', 'alpha': 0.05, 'hidden_layer_sizes': 5}, {'activation': 'tanh', 'alpha': 0.05, 'hidden_layer_sizes': 10}, {'activation': 'tanh', 'alpha': 0.05, 'hidden_layer_sizes': 50}, {'activation': 'relu', 'alpha': 0.0001, 'hidden_layer_sizes': 1}, {'activation': 'relu', 'alpha': 0.0001, 'hidden_layer_sizes': 5}, {'activation': 'relu', 'alpha': 0.0001, 'hidden_layer_sizes': 10}, {'activation': 'relu', 'alpha': 0.0001, 'hidden_layer_sizes': 50}, {'activation': 'relu', 'alpha': 0.05, 'hidden_layer_sizes': 1}, {'activation': 'relu', 'alpha': 0.05, 'hidden_layer_sizes': 5}, {'activation': 'relu', 'alpha': 0.05, 'hidden_layer_sizes': 10}, {'activation': 'relu', 'alpha': 0.05, 'hidden_layer_sizes': 50}], 'split0_test_score': array([0.     , 0.76075, 0.79675, 0.8283 , 0.     , 0.77215, 0.80045,\n",
            "       0.84265, 0.1797 , 0.72465, 0.766  , 0.82685, 0.06395, 0.73555,\n",
            "       0.79615, 0.83545]), 'split1_test_score': array([0.     , 0.7785 , 0.81525, 0.8282 , 0.     , 0.7689 , 0.81955,\n",
            "       0.83935, 0.17445, 0.55895, 0.7933 , 0.83165, 0.1547 , 0.38035,\n",
            "       0.7982 , 0.8416 ]), 'split2_test_score': array([0.     , 0.75255, 0.80965, 0.83275, 0.     , 0.78475, 0.80155,\n",
            "       0.84565, 0.13805, 0.6663 , 0.7878 , 0.8339 , 0.14795, 0.60525,\n",
            "       0.77945, 0.8401 ]), 'mean_test_score': array([0.        , 0.76393333, 0.80721667, 0.82975   , 0.        ,\n",
            "       0.77526667, 0.80718333, 0.84255   , 0.16406667, 0.64996667,\n",
            "       0.78236667, 0.8308    , 0.1222    , 0.57371667, 0.79126667,\n",
            "       0.83905   ]), 'std_test_score': array([0.        , 0.01083054, 0.00774611, 0.00212171, 0.        ,\n",
            "       0.00683573, 0.00875608, 0.00257294, 0.01852099, 0.06862558,\n",
            "       0.01178879, 0.00294024, 0.04128105, 0.14671406, 0.00839745,\n",
            "       0.00261821]), 'rank_test_score': array([15, 10,  5,  4, 15,  9,  6,  1, 13, 11,  8,  3, 14, 12,  7,  2],\n",
            "      dtype=int32), 'split0_train_score': array([0.      , 0.795575, 0.84665 , 0.95755 , 0.      , 0.799075,\n",
            "       0.837375, 0.915225, 0.178625, 0.74885 , 0.801275, 0.9385  ,\n",
            "       0.063475, 0.75685 , 0.828225, 0.90595 ]), 'split1_train_score': array([0.      , 0.800475, 0.85545 , 0.953975, 0.      , 0.785925,\n",
            "       0.848525, 0.9049  , 0.180925, 0.5633  , 0.82365 , 0.938775,\n",
            "       0.155175, 0.38405 , 0.814875, 0.9056  ]), 'split2_train_score': array([0.      , 0.777475, 0.852   , 0.95865 , 0.      , 0.80595 ,\n",
            "       0.832975, 0.90515 , 0.13745 , 0.67745 , 0.815   , 0.948775,\n",
            "       0.14835 , 0.6125  , 0.795625, 0.907125]), 'mean_train_score': array([0.        , 0.791175  , 0.85136667, 0.956725  , 0.        ,\n",
            "       0.79698333, 0.839625  , 0.908425  , 0.16566667, 0.6632    ,\n",
            "       0.81330833, 0.94201667, 0.12233333, 0.58446667, 0.81290833,\n",
            "       0.906225  ]), 'std_train_score': array([0.        , 0.00989175, 0.00362039, 0.00199572, 0.        ,\n",
            "       0.00830789, 0.00654459, 0.00480941, 0.01997428, 0.0764177 ,\n",
            "       0.00921254, 0.00478018, 0.04171229, 0.15348042, 0.01338135,\n",
            "       0.00065224])}\n"
          ],
          "name": "stdout"
        }
      ]
    },
    {
      "cell_type": "code",
      "metadata": {
        "colab": {
          "base_uri": "https://localhost:8080/"
        },
        "id": "Fn5sMaIKn6X-",
        "outputId": "bb9280d2-0c65-444e-f0d0-caa91a579a7a"
      },
      "source": [
        "# Identifies nn_model mean training error\n",
        "nn_model_mean_train = np.array(nn_model.cv_results_['mean_train_score'])\n",
        "print(nn_model_mean_train)"
      ],
      "execution_count": null,
      "outputs": [
        {
          "output_type": "stream",
          "text": [
            "[0.         0.791175   0.85136667 0.956725   0.         0.79698333\n",
            " 0.839625   0.908425   0.16566667 0.6632     0.81330833 0.94201667\n",
            " 0.12233333 0.58446667 0.81290833 0.906225  ]\n"
          ],
          "name": "stdout"
        }
      ]
    },
    {
      "cell_type": "code",
      "metadata": {
        "colab": {
          "base_uri": "https://localhost:8080/"
        },
        "id": "RtXS1u2NoEYT",
        "outputId": "04cec274-e9f3-4480-ea34-db62d91d346f"
      },
      "source": [
        "# Identifies nn_model nean testing error\n",
        "nn_model_mean_test = np.array(nn_model.cv_results_['mean_test_score'])\n",
        "print(nn_model_mean_test)"
      ],
      "execution_count": null,
      "outputs": [
        {
          "output_type": "stream",
          "text": [
            "[0.         0.76393333 0.80721667 0.82975    0.         0.77526667\n",
            " 0.80718333 0.84255    0.16406667 0.64996667 0.78236667 0.8308\n",
            " 0.1222     0.57371667 0.79126667 0.83905   ]\n"
          ],
          "name": "stdout"
        }
      ]
    },
    {
      "cell_type": "code",
      "metadata": {
        "colab": {
          "base_uri": "https://localhost:8080/"
        },
        "id": "BZ3S3qIaeVd1",
        "outputId": "aa275424-73ed-4a24-ac7f-4d81c244b197"
      },
      "source": [
        "print(type(nn_model.param_grid))\n",
        "print(nn_model.param_grid['alpha'])"
      ],
      "execution_count": null,
      "outputs": [
        {
          "output_type": "stream",
          "text": [
            "<class 'dict'>\n",
            "[0.0001, 0.05]\n"
          ],
          "name": "stdout"
        }
      ]
    },
    {
      "cell_type": "code",
      "metadata": {
        "colab": {
          "base_uri": "https://localhost:8080/"
        },
        "id": "_0vcguG5enoN",
        "outputId": "2294d6b6-be06-4883-c662-7f9caf565963"
      },
      "source": [
        "print('NN Parameters')\n",
        "nn_model.cv_results_['params']"
      ],
      "execution_count": null,
      "outputs": [
        {
          "output_type": "stream",
          "text": [
            "NN Parameters\n"
          ],
          "name": "stdout"
        },
        {
          "output_type": "execute_result",
          "data": {
            "text/plain": [
              "[{'activation': 'tanh', 'alpha': 0.0001, 'hidden_layer_sizes': 1},\n",
              " {'activation': 'tanh', 'alpha': 0.0001, 'hidden_layer_sizes': 5},\n",
              " {'activation': 'tanh', 'alpha': 0.0001, 'hidden_layer_sizes': 10},\n",
              " {'activation': 'tanh', 'alpha': 0.0001, 'hidden_layer_sizes': 50},\n",
              " {'activation': 'tanh', 'alpha': 0.05, 'hidden_layer_sizes': 1},\n",
              " {'activation': 'tanh', 'alpha': 0.05, 'hidden_layer_sizes': 5},\n",
              " {'activation': 'tanh', 'alpha': 0.05, 'hidden_layer_sizes': 10},\n",
              " {'activation': 'tanh', 'alpha': 0.05, 'hidden_layer_sizes': 50},\n",
              " {'activation': 'relu', 'alpha': 0.0001, 'hidden_layer_sizes': 1},\n",
              " {'activation': 'relu', 'alpha': 0.0001, 'hidden_layer_sizes': 5},\n",
              " {'activation': 'relu', 'alpha': 0.0001, 'hidden_layer_sizes': 10},\n",
              " {'activation': 'relu', 'alpha': 0.0001, 'hidden_layer_sizes': 50},\n",
              " {'activation': 'relu', 'alpha': 0.05, 'hidden_layer_sizes': 1},\n",
              " {'activation': 'relu', 'alpha': 0.05, 'hidden_layer_sizes': 5},\n",
              " {'activation': 'relu', 'alpha': 0.05, 'hidden_layer_sizes': 10},\n",
              " {'activation': 'relu', 'alpha': 0.05, 'hidden_layer_sizes': 50}]"
            ]
          },
          "metadata": {
            "tags": []
          },
          "execution_count": 81
        }
      ]
    },
    {
      "cell_type": "code",
      "metadata": {
        "colab": {
          "base_uri": "https://localhost:8080/"
        },
        "id": "QJnMBeaPWUWR",
        "outputId": "3d62c17e-f1a4-4462-e0a8-70edb18756d1"
      },
      "source": [
        "nn_model.cv_results_['params'][0:16]  # 0-3, 8-11 are alpha = 0.0001\n",
        "nn_model.cv_results_['params'][0:4]+nn_model.cv_results_['params'][8:12]"
      ],
      "execution_count": null,
      "outputs": [
        {
          "output_type": "execute_result",
          "data": {
            "text/plain": [
              "[{'activation': 'tanh', 'alpha': 0.0001, 'hidden_layer_sizes': 1},\n",
              " {'activation': 'tanh', 'alpha': 0.0001, 'hidden_layer_sizes': 5},\n",
              " {'activation': 'tanh', 'alpha': 0.0001, 'hidden_layer_sizes': 10},\n",
              " {'activation': 'tanh', 'alpha': 0.0001, 'hidden_layer_sizes': 50},\n",
              " {'activation': 'relu', 'alpha': 0.0001, 'hidden_layer_sizes': 1},\n",
              " {'activation': 'relu', 'alpha': 0.0001, 'hidden_layer_sizes': 5},\n",
              " {'activation': 'relu', 'alpha': 0.0001, 'hidden_layer_sizes': 10},\n",
              " {'activation': 'relu', 'alpha': 0.0001, 'hidden_layer_sizes': 50}]"
            ]
          },
          "metadata": {
            "tags": []
          },
          "execution_count": 44
        }
      ]
    },
    {
      "cell_type": "markdown",
      "metadata": {
        "id": "scNpIa4cfrvw"
      },
      "source": [
        "'activation': 'tanh', 'alpha': 0.0001"
      ]
    },
    {
      "cell_type": "code",
      "metadata": {
        "colab": {
          "base_uri": "https://localhost:8080/"
        },
        "id": "IKphqORxXOPv",
        "outputId": "d6e9b0b3-ef33-4693-82c9-ec7bd8514e55"
      },
      "source": [
        "nn_model_tanh1_mean_train = []\n",
        "nn_model_tanh1_mean_train.extend(nn_model_mean_train[0:4])\n",
        "nn_model_tanh1_mean_train"
      ],
      "execution_count": null,
      "outputs": [
        {
          "output_type": "execute_result",
          "data": {
            "text/plain": [
              "[0.0, 0.791175, 0.8513666666666667, 0.956725]"
            ]
          },
          "metadata": {
            "tags": []
          },
          "execution_count": 60
        }
      ]
    },
    {
      "cell_type": "code",
      "metadata": {
        "colab": {
          "base_uri": "https://localhost:8080/"
        },
        "id": "F8z_f-XbWr64",
        "outputId": "8d64935f-a5dc-4cdd-e19a-3c49c72922dd"
      },
      "source": [
        "nn_model_tanh1_mean_test = []\n",
        "nn_model_tanh1_mean_test.extend(nn_model_mean_test[0:4])\n",
        "nn_model_tanh1_mean_test"
      ],
      "execution_count": null,
      "outputs": [
        {
          "output_type": "execute_result",
          "data": {
            "text/plain": [
              "[0.0, 0.7639333333333335, 0.8072166666666667, 0.8297500000000001]"
            ]
          },
          "metadata": {
            "tags": []
          },
          "execution_count": 59
        }
      ]
    },
    {
      "cell_type": "code",
      "metadata": {
        "colab": {
          "base_uri": "https://localhost:8080/",
          "height": 312
        },
        "id": "bnfFkozToT-M",
        "outputId": "e40b0235-c01b-40f9-e3ee-a595b56548ed"
      },
      "source": [
        "plt.plot(nn_model.param_grid['hidden_layer_sizes'], nn_model_tanh1_mean_train, color='blue')\n",
        "plt.plot(nn_model.param_grid['hidden_layer_sizes'], nn_model_tanh1_mean_test, color='red')\n",
        "plt.xlabel('Hidden Layers')\n",
        "plt.ylabel('Accuracy')\n",
        "plt.title('activation: tanh, alpha: 0.0001')\n",
        "plt.legend( ['Mean Training Score', 'Mean Testing Score'])"
      ],
      "execution_count": null,
      "outputs": [
        {
          "output_type": "execute_result",
          "data": {
            "text/plain": [
              "<matplotlib.legend.Legend at 0x7f935e9b24d0>"
            ]
          },
          "metadata": {
            "tags": []
          },
          "execution_count": 85
        },
        {
          "output_type": "display_data",
          "data": {
            "image/png": "[encoded data removed]",
            "text/plain": [
              "<Figure size 432x288 with 1 Axes>"
            ]
          },
          "metadata": {
            "tags": [],
            "needs_background": "light"
          }
        }
      ]
    },
    {
      "cell_type": "markdown",
      "metadata": {
        "id": "NoylcRJWf27h"
      },
      "source": [
        "'activation': 'tanh', 'alpha': 0.05"
      ]
    },
    {
      "cell_type": "code",
      "metadata": {
        "colab": {
          "base_uri": "https://localhost:8080/"
        },
        "id": "mLkYYDrDgAUQ",
        "outputId": "9aab38b6-7502-4e1b-cc54-1f6c404efd92"
      },
      "source": [
        "nn_model_tanh5_mean_train = []\n",
        "nn_model_tanh5_mean_train.extend(nn_model_mean_train[4:8])\n",
        "nn_model_tanh5_mean_train"
      ],
      "execution_count": null,
      "outputs": [
        {
          "output_type": "execute_result",
          "data": {
            "text/plain": [
              "[0.0, 0.7969833333333334, 0.839625, 0.9084249999999999]"
            ]
          },
          "metadata": {
            "tags": []
          },
          "execution_count": 63
        }
      ]
    },
    {
      "cell_type": "code",
      "metadata": {
        "colab": {
          "base_uri": "https://localhost:8080/"
        },
        "id": "ggxoy_9mgAUT",
        "outputId": "033a28de-33dd-4e8b-cc24-7cd735d3a0ee"
      },
      "source": [
        "nn_model_tanh5_mean_test = []\n",
        "nn_model_tanh5_mean_test.extend(nn_model_mean_test[4:8])\n",
        "nn_model_tanh5_mean_test"
      ],
      "execution_count": null,
      "outputs": [
        {
          "output_type": "execute_result",
          "data": {
            "text/plain": [
              "[0.0, 0.7752666666666667, 0.8071833333333333, 0.84255]"
            ]
          },
          "metadata": {
            "tags": []
          },
          "execution_count": 64
        }
      ]
    },
    {
      "cell_type": "code",
      "metadata": {
        "colab": {
          "base_uri": "https://localhost:8080/",
          "height": 312
        },
        "id": "LUE2PXlmgAUT",
        "outputId": "2eee8eae-3f63-4f36-c2e1-b6be88f3e285"
      },
      "source": [
        "plt.plot(nn_model.param_grid['hidden_layer_sizes'], nn_model_tanh5_mean_train, color='blue')\n",
        "plt.plot(nn_model.param_grid['hidden_layer_sizes'], nn_model_tanh5_mean_test, color='red')\n",
        "plt.xlabel('Hidden Layers')\n",
        "plt.ylabel('Accuracy')\n",
        "plt.title('activation: tanh, alpha: 0.05')\n",
        "plt.legend( ['Mean Training Score', 'Mean Testing Score'])"
      ],
      "execution_count": null,
      "outputs": [
        {
          "output_type": "execute_result",
          "data": {
            "text/plain": [
              "<matplotlib.legend.Legend at 0x7f935f34df10>"
            ]
          },
          "metadata": {
            "tags": []
          },
          "execution_count": 84
        },
        {
          "output_type": "display_data",
          "data": {
            "image/png": "[encoded data removed]",
            "text/plain": [
              "<Figure size 432x288 with 1 Axes>"
            ]
          },
          "metadata": {
            "tags": [],
            "needs_background": "light"
          }
        }
      ]
    },
    {
      "cell_type": "markdown",
      "metadata": {
        "id": "e7i74W23ge-c"
      },
      "source": [
        "'activation': 'relu', 'alpha': 0.0001"
      ]
    },
    {
      "cell_type": "code",
      "metadata": {
        "colab": {
          "base_uri": "https://localhost:8080/"
        },
        "id": "TXKVRI1fggVc",
        "outputId": "bfd56ffd-7772-4828-df4a-e2df54eea5ea"
      },
      "source": [
        "nn_model_relu1_mean_train = []\n",
        "nn_model_relu1_mean_train.extend(nn_model_mean_train[8:12])\n",
        "nn_model_relu1_mean_train"
      ],
      "execution_count": null,
      "outputs": [
        {
          "output_type": "execute_result",
          "data": {
            "text/plain": [
              "[0.16566666666666666,\n",
              " 0.6631999999999999,\n",
              " 0.8133083333333332,\n",
              " 0.9420166666666666]"
            ]
          },
          "metadata": {
            "tags": []
          },
          "execution_count": 66
        }
      ]
    },
    {
      "cell_type": "code",
      "metadata": {
        "colab": {
          "base_uri": "https://localhost:8080/"
        },
        "id": "y2y_ppsOggVe",
        "outputId": "0d10ecec-6c11-42e8-cc35-0a25616af1e6"
      },
      "source": [
        "nn_model_relu1_mean_test = []\n",
        "nn_model_relu1_mean_test.extend(nn_model_mean_test[8:12])\n",
        "nn_model_relu1_mean_test"
      ],
      "execution_count": null,
      "outputs": [
        {
          "output_type": "execute_result",
          "data": {
            "text/plain": [
              "[0.16406666666666667, 0.6499666666666667, 0.7823666666666665, 0.8308]"
            ]
          },
          "metadata": {
            "tags": []
          },
          "execution_count": 67
        }
      ]
    },
    {
      "cell_type": "code",
      "metadata": {
        "colab": {
          "base_uri": "https://localhost:8080/",
          "height": 312
        },
        "id": "zW6u-ed7ggVf",
        "outputId": "e72225db-c6cf-486c-a263-2d2696f6469d"
      },
      "source": [
        "plt.plot(nn_model.param_grid['hidden_layer_sizes'], nn_model_relu1_mean_train, color='blue')\n",
        "plt.plot(nn_model.param_grid['hidden_layer_sizes'], nn_model_relu1_mean_test, color='red')\n",
        "plt.xlabel('Hidden Layers')\n",
        "plt.ylabel('Accuracy')\n",
        "plt.title('activation: relu, alpha: 0.0001')\n",
        "plt.legend( ['Mean Training Score', 'Mean Testing Score'])"
      ],
      "execution_count": null,
      "outputs": [
        {
          "output_type": "execute_result",
          "data": {
            "text/plain": [
              "<matplotlib.legend.Legend at 0x7f935f383c50>"
            ]
          },
          "metadata": {
            "tags": []
          },
          "execution_count": 83
        },
        {
          "output_type": "display_data",
          "data": {
            "image/png": "[encoded data removed]",
            "text/plain": [
              "<Figure size 432x288 with 1 Axes>"
            ]
          },
          "metadata": {
            "tags": [],
            "needs_background": "light"
          }
        }
      ]
    },
    {
      "cell_type": "markdown",
      "metadata": {
        "id": "1NtBEKcegmqZ"
      },
      "source": [
        "'activation': 'relu', 'alpha': 0.05"
      ]
    },
    {
      "cell_type": "code",
      "metadata": {
        "colab": {
          "base_uri": "https://localhost:8080/"
        },
        "id": "OT1NihYtgrwc",
        "outputId": "e2364981-c905-456a-e0c3-e00b5adb14fe"
      },
      "source": [
        "nn_model_relu5_mean_train = []\n",
        "nn_model_relu5_mean_train.extend(nn_model_mean_train[12:])\n",
        "nn_model_relu5_mean_train"
      ],
      "execution_count": null,
      "outputs": [
        {
          "output_type": "execute_result",
          "data": {
            "text/plain": [
              "[0.12233333333333334,\n",
              " 0.5844666666666667,\n",
              " 0.8129083333333332,\n",
              " 0.9062250000000001]"
            ]
          },
          "metadata": {
            "tags": []
          },
          "execution_count": 69
        }
      ]
    },
    {
      "cell_type": "code",
      "metadata": {
        "colab": {
          "base_uri": "https://localhost:8080/"
        },
        "id": "LbnFNnMwgrwd",
        "outputId": "7c7ecfa0-cc38-4928-f2e8-fb3d00d49015"
      },
      "source": [
        "nn_model_relu5_mean_test = []\n",
        "nn_model_relu5_mean_test.extend(nn_model_mean_test[12:])\n",
        "nn_model_relu5_mean_test"
      ],
      "execution_count": null,
      "outputs": [
        {
          "output_type": "execute_result",
          "data": {
            "text/plain": [
              "[0.12220000000000002, 0.5737166666666668, 0.7912666666666667, 0.83905]"
            ]
          },
          "metadata": {
            "tags": []
          },
          "execution_count": 70
        }
      ]
    },
    {
      "cell_type": "code",
      "metadata": {
        "colab": {
          "base_uri": "https://localhost:8080/",
          "height": 312
        },
        "id": "XCMH6nQ8grwe",
        "outputId": "9725caf7-0831-4142-c874-8d2316eb0319"
      },
      "source": [
        "plt.plot(nn_model.param_grid['hidden_layer_sizes'], nn_model_relu5_mean_train, color='blue')\n",
        "plt.plot(nn_model.param_grid['hidden_layer_sizes'], nn_model_relu5_mean_test, color='red')\n",
        "plt.xlabel('Hidden Layers')\n",
        "plt.ylabel('Accuracy')\n",
        "plt.title('activation: relu, alpha: 0.05')\n",
        "plt.legend( ['Mean Training Score', 'Mean Testing Score'])"
      ],
      "execution_count": null,
      "outputs": [
        {
          "output_type": "execute_result",
          "data": {
            "text/plain": [
              "<matplotlib.legend.Legend at 0x7f935f277d90>"
            ]
          },
          "metadata": {
            "tags": []
          },
          "execution_count": 82
        },
        {
          "output_type": "display_data",
          "data": {
            "image/png": "[encoded data removed]",
            "text/plain": [
              "<Figure size 432x288 with 1 Axes>"
            ]
          },
          "metadata": {
            "tags": [],
            "needs_background": "light"
          }
        }
      ]
    },
    {
      "cell_type": "markdown",
      "metadata": {
        "id": "KaTUeiiShYD9"
      },
      "source": [
        "Mean Test Errors"
      ]
    },
    {
      "cell_type": "code",
      "metadata": {
        "colab": {
          "base_uri": "https://localhost:8080/",
          "height": 312
        },
        "id": "D4OYz6cShcWn",
        "outputId": "6d3db96c-cc5d-4990-9dd1-a2efd617fbf8"
      },
      "source": [
        "tanh1, = plt.plot(nn_model.param_grid['hidden_layer_sizes'], nn_model_tanh1_mean_test, color='purple')\n",
        "tanh5, = plt.plot(nn_model.param_grid['hidden_layer_sizes'], nn_model_tanh5_mean_test, color='green')\n",
        "relu1, = plt.plot(nn_model.param_grid['hidden_layer_sizes'], nn_model_relu1_mean_test, color='blue')\n",
        "relu5, = plt.plot(nn_model.param_grid['hidden_layer_sizes'], nn_model_relu5_mean_test, color='red')\n",
        "plt.xticks(nn_model.param_grid['hidden_layer_sizes'])\n",
        "plt.xlabel('Hidden Layers')\n",
        "plt.ylabel('Accuracy')\n",
        "plt.grid()\n",
        "plt.legend( [tanh1, tanh5, relu1, relu5],['activation: tanh, alpha: 0.0001','activation: tanh, alpha: 0.05','activation: relu, alpha: 0.0001','activation: relu, alpha: 0.05'])\n",
        "plt.title('Mean Training Accuracys')"
      ],
      "execution_count": null,
      "outputs": [
        {
          "output_type": "execute_result",
          "data": {
            "text/plain": [
              "Text(0.5, 1.0, 'Mean Training Accuracys')"
            ]
          },
          "metadata": {
            "tags": []
          },
          "execution_count": 77
        },
        {
          "output_type": "display_data",
          "data": {
            "image/png": "[encoded data removed]",
            "text/plain": [
              "<Figure size 432x288 with 1 Axes>"
            ]
          },
          "metadata": {
            "tags": [],
            "needs_background": "light"
          }
        }
      ]
    },
    {
      "cell_type": "code",
      "metadata": {
        "colab": {
          "base_uri": "https://localhost:8080/"
        },
        "id": "euAfXSuRh3Y7",
        "outputId": "8647a516-8c5a-4f7e-cdb1-b99e5aae380e"
      },
      "source": [
        "nn_model.param_grid['hidden_layer_sizes']"
      ],
      "execution_count": null,
      "outputs": [
        {
          "output_type": "execute_result",
          "data": {
            "text/plain": [
              "[1, 5, 10, 50]"
            ]
          },
          "metadata": {
            "tags": []
          },
          "execution_count": 73
        }
      ]
    },
    {
      "cell_type": "markdown",
      "metadata": {
        "id": "SIaevW9aSGHI"
      },
      "source": [
        "KNN"
      ]
    },
    {
      "cell_type": "code",
      "metadata": {
        "id": "TaIyDbCrsM1D"
      },
      "source": [
        "# Takes more than a day to run\n",
        "# Define the set of values that will be evaluated for the hyperparameter\n",
        "# Here, we are testing 1 - 11\n",
        "knn_param_grid = {'n_neighbors': [1, 2, 3, 4, 5, 6, 7, 8, 9, 10, 11]}"
      ],
      "execution_count": null,
      "outputs": []
    },
    {
      "cell_type": "code",
      "metadata": {
        "id": "_uhBptH_YX2P",
        "colab": {
          "base_uri": "https://localhost:8080/"
        },
        "outputId": "28f6be18-e6d8-42b7-ff6d-43a02ac56252"
      },
      "source": [
        "# StratifiedKfold and gridsearch to find the best hyperparameter k for the KNN classifier\n",
        "# Set the seed for reproducibility\n",
        "np.random.seed(42)\n",
        "\n",
        "# Start the timer to check the training time for the model\n",
        "start_time = time.time()\n",
        "\n",
        "# This is using 5-fold cross-validation. It also keeps the training scores\n",
        "knncv = skms.GridSearchCV(neighbors.KNeighborsClassifier(), param_grid=knn_param_grid, cv=2, return_train_score=True, verbose=2)\n",
        "#knncv = neighbors.KNeighborsClassifier(n_neighbors = 2)\n",
        "knncv.fit(x_train, y_train)\n",
        "\n",
        "end_time = time.time()\n",
        "total_time = end_time - start_time\n",
        "print('Time: %.2f seconds' % total_time)"
      ],
      "execution_count": null,
      "outputs": [
        {
          "output_type": "stream",
          "text": [
            "Fitting 2 folds for each of 11 candidates, totalling 22 fits\n",
            "[CV] n_neighbors=1 ...................................................\n"
          ],
          "name": "stdout"
        },
        {
          "output_type": "stream",
          "text": [
            "[Parallel(n_jobs=1)]: Using backend SequentialBackend with 1 concurrent workers.\n"
          ],
          "name": "stderr"
        },
        {
          "output_type": "stream",
          "text": [
            "[CV] .................................... n_neighbors=1, total=24.0min\n",
            "[CV] n_neighbors=1 ...................................................\n"
          ],
          "name": "stdout"
        },
        {
          "output_type": "stream",
          "text": [
            "[Parallel(n_jobs=1)]: Done   1 out of   1 | elapsed: 29.3min remaining:    0.0s\n"
          ],
          "name": "stderr"
        },
        {
          "output_type": "stream",
          "text": [
            "[CV] .................................... n_neighbors=1, total=23.9min\n",
            "[CV] n_neighbors=2 ...................................................\n"
          ],
          "name": "stdout"
        }
      ]
    },
    {
      "cell_type": "code",
      "metadata": {
        "id": "EBHUvzGEsU75"
      },
      "source": [
        "# Make predictions for the entire test set\n",
        "knncv_predict = knncv.predict(x_test)"
      ],
      "execution_count": null,
      "outputs": []
    },
    {
      "cell_type": "code",
      "metadata": {
        "id": "7rNICPSoqa3F",
        "colab": {
          "base_uri": "https://localhost:8080/",
          "height": 231
        },
        "outputId": "29348eb8-2dd0-4f28-cea7-3a2741dd3f35"
      },
      "source": [
        "# See how the model performed\n",
        "report_knncv = metrics.classification_report(y_test, knncv_predict)\n",
        "print(report_knncv)\n",
        "\n",
        "# Display confusion matrix\n",
        "cm_helper(plt.gca(), y_test.argmax(axis=1), knncv_predict.argmax(axis=1))\n",
        "\n",
        "print(\"Parameters: \", knncv.best_params_)"
      ],
      "execution_count": null,
      "outputs": [
        {
          "output_type": "error",
          "ename": "NameError",
          "evalue": "ignored",
          "traceback": [
            "\u001b[0;31m---------------------------------------------------------------------------\u001b[0m",
            "\u001b[0;31mNameError\u001b[0m                                 Traceback (most recent call last)",
            "\u001b[0;32m<ipython-input-1-187bd0b4dbdf>\u001b[0m in \u001b[0;36m<module>\u001b[0;34m()\u001b[0m\n\u001b[1;32m      1\u001b[0m \u001b[0;31m# See how the model performed\u001b[0m\u001b[0;34m\u001b[0m\u001b[0;34m\u001b[0m\u001b[0;34m\u001b[0m\u001b[0m\n\u001b[0;32m----> 2\u001b[0;31m \u001b[0mreport_knncv\u001b[0m \u001b[0;34m=\u001b[0m \u001b[0mmetrics\u001b[0m\u001b[0;34m.\u001b[0m\u001b[0mclassification_report\u001b[0m\u001b[0;34m(\u001b[0m\u001b[0my_test\u001b[0m\u001b[0;34m,\u001b[0m \u001b[0mknncv_predict\u001b[0m\u001b[0;34m)\u001b[0m\u001b[0;34m\u001b[0m\u001b[0;34m\u001b[0m\u001b[0m\n\u001b[0m\u001b[1;32m      3\u001b[0m \u001b[0mprint\u001b[0m\u001b[0;34m(\u001b[0m\u001b[0mreport_knncv\u001b[0m\u001b[0;34m)\u001b[0m\u001b[0;34m\u001b[0m\u001b[0;34m\u001b[0m\u001b[0m\n\u001b[1;32m      4\u001b[0m \u001b[0;34m\u001b[0m\u001b[0m\n\u001b[1;32m      5\u001b[0m \u001b[0;31m# Display confusion matrix\u001b[0m\u001b[0;34m\u001b[0m\u001b[0;34m\u001b[0m\u001b[0;34m\u001b[0m\u001b[0m\n",
            "\u001b[0;31mNameError\u001b[0m: name 'metrics' is not defined"
          ]
        }
      ]
    },
    {
      "cell_type": "code",
      "metadata": {
        "id": "A9zotb1RVGUS",
        "colab": {
          "base_uri": "https://localhost:8080/",
          "height": 163
        },
        "outputId": "8b47473f-a03e-481d-97a1-6edeab05b210"
      },
      "source": [
        "print(knncv.cv_results_)"
      ],
      "execution_count": null,
      "outputs": [
        {
          "output_type": "error",
          "ename": "NameError",
          "evalue": "ignored",
          "traceback": [
            "\u001b[0;31m---------------------------------------------------------------------------\u001b[0m",
            "\u001b[0;31mNameError\u001b[0m                                 Traceback (most recent call last)",
            "\u001b[0;32m<ipython-input-2-d90841670d16>\u001b[0m in \u001b[0;36m<module>\u001b[0;34m()\u001b[0m\n\u001b[0;32m----> 1\u001b[0;31m \u001b[0mprint\u001b[0m\u001b[0;34m(\u001b[0m\u001b[0mknncv\u001b[0m\u001b[0;34m.\u001b[0m\u001b[0mcv_results_\u001b[0m\u001b[0;34m)\u001b[0m\u001b[0;34m\u001b[0m\u001b[0;34m\u001b[0m\u001b[0m\n\u001b[0m",
            "\u001b[0;31mNameError\u001b[0m: name 'knncv' is not defined"
          ]
        }
      ]
    },
    {
      "cell_type": "code",
      "metadata": {
        "id": "68NkWbpFUrJg"
      },
      "source": [
        "knncv_k = np.array([1, 2, 3, 4, 5, 6, 7, 8, 9, 10, 11])\n",
        "print(knncv_k)"
      ],
      "execution_count": null,
      "outputs": []
    },
    {
      "cell_type": "code",
      "metadata": {
        "id": "oV72hMcoS-TP"
      },
      "source": [
        "# Identifies knn mean training error\n",
        "knncv_mean_train = np.array(knncv.cv_results_['mean_train_score'])\n",
        "print(knncv_mean_train)"
      ],
      "execution_count": null,
      "outputs": []
    },
    {
      "cell_type": "code",
      "metadata": {
        "id": "aomErH2zS-0u"
      },
      "source": [
        "# Identifies knn nean testing error\n",
        "knncv_mean_test = np.array(knncv.cv_results_['mean_test_score'])\n",
        "print(knncv_mean_test)"
      ],
      "execution_count": null,
      "outputs": []
    },
    {
      "cell_type": "code",
      "metadata": {
        "id": "U3JK9jUATAru"
      },
      "source": [
        "plt.plot(knncv_k, knncv_mean_train, color='blue')\n",
        "plt.plot(knncv_k, knncv_mean_test, color='red')\n",
        "plt.xlabel('Number of Neighbors')\n",
        "plt.ylabel('Mean Scores')\n",
        "plt.title('Mean Train and Mean Test Scores vs. Number of Neighbors Tested')\n",
        "plt.xticks([1, 2, 3, 4, 5, 6, 7, 8, 9, 10, 11])\n",
        "colors = {'Mean Train Scores':'blue', 'Mean Test Scores':'red'}         \n",
        "labels = list(colors.keys())\n",
        "handles = [plt.Rectangle((0,0),1,1, color=colors[label]) for label in labels]\n",
        "plt.legend(handles, labels);"
      ],
      "execution_count": null,
      "outputs": []
    }
  ]
}